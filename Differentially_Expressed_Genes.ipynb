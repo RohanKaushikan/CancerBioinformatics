{
  "cells": [
    {
      "cell_type": "markdown",
      "metadata": {
        "id": "view-in-github",
        "colab_type": "text"
      },
      "source": [
        "<a href=\"https://colab.research.google.com/github/RohanKaushikan/CancerBioinformatics/blob/main/Differentially_Expressed_Genes.ipynb\" target=\"_parent\"><img src=\"https://colab.research.google.com/assets/colab-badge.svg\" alt=\"Open In Colab\"/></a>"
      ]
    },
    {
      "cell_type": "code",
      "execution_count": null,
      "metadata": {
        "colab": {
          "base_uri": "https://localhost:8080/"
        },
        "id": "dV7EhviYZqFd",
        "outputId": "8e586467-5105-4b05-991a-f7003dcad8ca"
      },
      "outputs": [
        {
          "name": "stdout",
          "output_type": "stream",
          "text": [
            "Mounted at /content/drive\n"
          ]
        }
      ],
      "source": [
        "from google.colab import drive\n",
        "drive.mount('/content/drive')"
      ]
    },
    {
      "cell_type": "code",
      "execution_count": null,
      "metadata": {
        "id": "B3Dh8EAJZ6nF"
      },
      "outputs": [],
      "source": [
        "import pandas as pd\n",
        "from scipy.stats import ttest_ind\n",
        "from statsmodels.stats.multitest import multipletests"
      ]
    },
    {
      "cell_type": "code",
      "execution_count": null,
      "metadata": {
        "id": "xaDcym9EZ6bU"
      },
      "outputs": [],
      "source": [
        "df = pd.read_csv('/content/drive/Shareddrives/1:1_Rohan_Kaushikan/Dataset/rohan_merged_data_rna_seq_rsem.csv')"
      ]
    },
    {
      "cell_type": "code",
      "execution_count": null,
      "metadata": {
        "colab": {
          "base_uri": "https://localhost:8080/",
          "height": 360
        },
        "id": "GN17mQ3HZ6Th",
        "outputId": "ea549fff-c447-4a3c-cb5c-5f14f6cf7804"
      },
      "outputs": [
        {
          "data": {
            "text/html": [
              "\n",
              "  <div id=\"df-5a9e6705-5721-4a8d-8546-fe6a67a8492d\" class=\"colab-df-container\">\n",
              "    <div>\n",
              "<style scoped>\n",
              "    .dataframe tbody tr th:only-of-type {\n",
              "        vertical-align: middle;\n",
              "    }\n",
              "\n",
              "    .dataframe tbody tr th {\n",
              "        vertical-align: top;\n",
              "    }\n",
              "\n",
              "    .dataframe thead th {\n",
              "        text-align: right;\n",
              "    }\n",
              "</style>\n",
              "<table border=\"1\" class=\"dataframe\">\n",
              "  <thead>\n",
              "    <tr style=\"text-align: right;\">\n",
              "      <th></th>\n",
              "      <th>Unnamed: 0</th>\n",
              "      <th>UBE2Q2P2</th>\n",
              "      <th>HMGB1P1</th>\n",
              "      <th>RNU12-2P</th>\n",
              "      <th>SSX9P</th>\n",
              "      <th>EZHIP</th>\n",
              "      <th>EFCAB8</th>\n",
              "      <th>SRP14P1</th>\n",
              "      <th>TRIM75P</th>\n",
              "      <th>SPATA31B1P</th>\n",
              "      <th>...</th>\n",
              "      <th>ZWINT</th>\n",
              "      <th>ZXDA</th>\n",
              "      <th>ZXDB</th>\n",
              "      <th>ZXDC</th>\n",
              "      <th>ZYG11A</th>\n",
              "      <th>ZYG11B</th>\n",
              "      <th>ZYX</th>\n",
              "      <th>ZZEF1</th>\n",
              "      <th>ZZZ3</th>\n",
              "      <th>Disease_Free_Status</th>\n",
              "    </tr>\n",
              "  </thead>\n",
              "  <tbody>\n",
              "    <tr>\n",
              "      <th>0</th>\n",
              "      <td>TCGA-3C-AAAU</td>\n",
              "      <td>12.9316</td>\n",
              "      <td>52.1503</td>\n",
              "      <td>0.0000</td>\n",
              "      <td>0.0000</td>\n",
              "      <td>1.7233</td>\n",
              "      <td>0.3447</td>\n",
              "      <td>4.1359</td>\n",
              "      <td>0.6893</td>\n",
              "      <td>0.0</td>\n",
              "      <td>...</td>\n",
              "      <td>931.957</td>\n",
              "      <td>129.5920</td>\n",
              "      <td>1007.780</td>\n",
              "      <td>1658.500</td>\n",
              "      <td>258.4940</td>\n",
              "      <td>1208.370</td>\n",
              "      <td>3507.25</td>\n",
              "      <td>1894.930</td>\n",
              "      <td>1180.460</td>\n",
              "      <td>1:Recurred/Progressed</td>\n",
              "    </tr>\n",
              "    <tr>\n",
              "      <th>1</th>\n",
              "      <td>TCGA-3C-AALI</td>\n",
              "      <td>17.3790</td>\n",
              "      <td>69.7553</td>\n",
              "      <td>1.0875</td>\n",
              "      <td>0.5438</td>\n",
              "      <td>144.1000</td>\n",
              "      <td>4.8940</td>\n",
              "      <td>1.6313</td>\n",
              "      <td>0.5438</td>\n",
              "      <td>0.0</td>\n",
              "      <td>...</td>\n",
              "      <td>965.198</td>\n",
              "      <td>59.8151</td>\n",
              "      <td>448.613</td>\n",
              "      <td>1343.120</td>\n",
              "      <td>198.4770</td>\n",
              "      <td>603.589</td>\n",
              "      <td>5504.62</td>\n",
              "      <td>1318.650</td>\n",
              "      <td>406.743</td>\n",
              "      <td>0:DiseaseFree</td>\n",
              "    </tr>\n",
              "    <tr>\n",
              "      <th>2</th>\n",
              "      <td>TCGA-3C-AALJ</td>\n",
              "      <td>9.2294</td>\n",
              "      <td>154.2970</td>\n",
              "      <td>0.0000</td>\n",
              "      <td>0.0000</td>\n",
              "      <td>0.0000</td>\n",
              "      <td>2.7199</td>\n",
              "      <td>2.7199</td>\n",
              "      <td>0.0000</td>\n",
              "      <td>0.0</td>\n",
              "      <td>...</td>\n",
              "      <td>2531.280</td>\n",
              "      <td>35.3581</td>\n",
              "      <td>533.998</td>\n",
              "      <td>768.812</td>\n",
              "      <td>331.8220</td>\n",
              "      <td>532.185</td>\n",
              "      <td>5458.75</td>\n",
              "      <td>942.883</td>\n",
              "      <td>509.519</td>\n",
              "      <td>0:DiseaseFree</td>\n",
              "    </tr>\n",
              "    <tr>\n",
              "      <th>3</th>\n",
              "      <td>TCGA-3C-AALK</td>\n",
              "      <td>11.0799</td>\n",
              "      <td>143.8640</td>\n",
              "      <td>0.4137</td>\n",
              "      <td>0.0000</td>\n",
              "      <td>0.0000</td>\n",
              "      <td>2.0687</td>\n",
              "      <td>4.5511</td>\n",
              "      <td>0.0000</td>\n",
              "      <td>0.0</td>\n",
              "      <td>...</td>\n",
              "      <td>668.597</td>\n",
              "      <td>55.0269</td>\n",
              "      <td>437.733</td>\n",
              "      <td>863.881</td>\n",
              "      <td>175.4240</td>\n",
              "      <td>607.365</td>\n",
              "      <td>5691.35</td>\n",
              "      <td>781.134</td>\n",
              "      <td>700.869</td>\n",
              "      <td>NaN</td>\n",
              "    </tr>\n",
              "    <tr>\n",
              "      <th>4</th>\n",
              "      <td>TCGA-4H-AAAK</td>\n",
              "      <td>14.4298</td>\n",
              "      <td>84.2128</td>\n",
              "      <td>0.4255</td>\n",
              "      <td>0.0000</td>\n",
              "      <td>0.4255</td>\n",
              "      <td>2.9787</td>\n",
              "      <td>2.9787</td>\n",
              "      <td>0.0000</td>\n",
              "      <td>0.0</td>\n",
              "      <td>...</td>\n",
              "      <td>674.468</td>\n",
              "      <td>48.9362</td>\n",
              "      <td>424.255</td>\n",
              "      <td>1049.790</td>\n",
              "      <td>14.0426</td>\n",
              "      <td>775.745</td>\n",
              "      <td>4041.70</td>\n",
              "      <td>831.915</td>\n",
              "      <td>881.702</td>\n",
              "      <td>0:DiseaseFree</td>\n",
              "    </tr>\n",
              "  </tbody>\n",
              "</table>\n",
              "<p>5 rows × 20520 columns</p>\n",
              "</div>\n",
              "    <div class=\"colab-df-buttons\">\n",
              "\n",
              "  <div class=\"colab-df-container\">\n",
              "    <button class=\"colab-df-convert\" onclick=\"convertToInteractive('df-5a9e6705-5721-4a8d-8546-fe6a67a8492d')\"\n",
              "            title=\"Convert this dataframe to an interactive table.\"\n",
              "            style=\"display:none;\">\n",
              "\n",
              "  <svg xmlns=\"http://www.w3.org/2000/svg\" height=\"24px\" viewBox=\"0 -960 960 960\">\n",
              "    <path d=\"M120-120v-720h720v720H120Zm60-500h600v-160H180v160Zm220 220h160v-160H400v160Zm0 220h160v-160H400v160ZM180-400h160v-160H180v160Zm440 0h160v-160H620v160ZM180-180h160v-160H180v160Zm440 0h160v-160H620v160Z\"/>\n",
              "  </svg>\n",
              "    </button>\n",
              "\n",
              "  <style>\n",
              "    .colab-df-container {\n",
              "      display:flex;\n",
              "      gap: 12px;\n",
              "    }\n",
              "\n",
              "    .colab-df-convert {\n",
              "      background-color: #E8F0FE;\n",
              "      border: none;\n",
              "      border-radius: 50%;\n",
              "      cursor: pointer;\n",
              "      display: none;\n",
              "      fill: #1967D2;\n",
              "      height: 32px;\n",
              "      padding: 0 0 0 0;\n",
              "      width: 32px;\n",
              "    }\n",
              "\n",
              "    .colab-df-convert:hover {\n",
              "      background-color: #E2EBFA;\n",
              "      box-shadow: 0px 1px 2px rgba(60, 64, 67, 0.3), 0px 1px 3px 1px rgba(60, 64, 67, 0.15);\n",
              "      fill: #174EA6;\n",
              "    }\n",
              "\n",
              "    .colab-df-buttons div {\n",
              "      margin-bottom: 4px;\n",
              "    }\n",
              "\n",
              "    [theme=dark] .colab-df-convert {\n",
              "      background-color: #3B4455;\n",
              "      fill: #D2E3FC;\n",
              "    }\n",
              "\n",
              "    [theme=dark] .colab-df-convert:hover {\n",
              "      background-color: #434B5C;\n",
              "      box-shadow: 0px 1px 3px 1px rgba(0, 0, 0, 0.15);\n",
              "      filter: drop-shadow(0px 1px 2px rgba(0, 0, 0, 0.3));\n",
              "      fill: #FFFFFF;\n",
              "    }\n",
              "  </style>\n",
              "\n",
              "    <script>\n",
              "      const buttonEl =\n",
              "        document.querySelector('#df-5a9e6705-5721-4a8d-8546-fe6a67a8492d button.colab-df-convert');\n",
              "      buttonEl.style.display =\n",
              "        google.colab.kernel.accessAllowed ? 'block' : 'none';\n",
              "\n",
              "      async function convertToInteractive(key) {\n",
              "        const element = document.querySelector('#df-5a9e6705-5721-4a8d-8546-fe6a67a8492d');\n",
              "        const dataTable =\n",
              "          await google.colab.kernel.invokeFunction('convertToInteractive',\n",
              "                                                    [key], {});\n",
              "        if (!dataTable) return;\n",
              "\n",
              "        const docLinkHtml = 'Like what you see? Visit the ' +\n",
              "          '<a target=\"_blank\" href=https://colab.research.google.com/notebooks/data_table.ipynb>data table notebook</a>'\n",
              "          + ' to learn more about interactive tables.';\n",
              "        element.innerHTML = '';\n",
              "        dataTable['output_type'] = 'display_data';\n",
              "        await google.colab.output.renderOutput(dataTable, element);\n",
              "        const docLink = document.createElement('div');\n",
              "        docLink.innerHTML = docLinkHtml;\n",
              "        element.appendChild(docLink);\n",
              "      }\n",
              "    </script>\n",
              "  </div>\n",
              "\n",
              "\n",
              "<div id=\"df-c459efe6-e820-4783-93c3-fb5458e379cf\">\n",
              "  <button class=\"colab-df-quickchart\" onclick=\"quickchart('df-c459efe6-e820-4783-93c3-fb5458e379cf')\"\n",
              "            title=\"Suggest charts\"\n",
              "            style=\"display:none;\">\n",
              "\n",
              "<svg xmlns=\"http://www.w3.org/2000/svg\" height=\"24px\"viewBox=\"0 0 24 24\"\n",
              "     width=\"24px\">\n",
              "    <g>\n",
              "        <path d=\"M19 3H5c-1.1 0-2 .9-2 2v14c0 1.1.9 2 2 2h14c1.1 0 2-.9 2-2V5c0-1.1-.9-2-2-2zM9 17H7v-7h2v7zm4 0h-2V7h2v10zm4 0h-2v-4h2v4z\"/>\n",
              "    </g>\n",
              "</svg>\n",
              "  </button>\n",
              "\n",
              "<style>\n",
              "  .colab-df-quickchart {\n",
              "      --bg-color: #E8F0FE;\n",
              "      --fill-color: #1967D2;\n",
              "      --hover-bg-color: #E2EBFA;\n",
              "      --hover-fill-color: #174EA6;\n",
              "      --disabled-fill-color: #AAA;\n",
              "      --disabled-bg-color: #DDD;\n",
              "  }\n",
              "\n",
              "  [theme=dark] .colab-df-quickchart {\n",
              "      --bg-color: #3B4455;\n",
              "      --fill-color: #D2E3FC;\n",
              "      --hover-bg-color: #434B5C;\n",
              "      --hover-fill-color: #FFFFFF;\n",
              "      --disabled-bg-color: #3B4455;\n",
              "      --disabled-fill-color: #666;\n",
              "  }\n",
              "\n",
              "  .colab-df-quickchart {\n",
              "    background-color: var(--bg-color);\n",
              "    border: none;\n",
              "    border-radius: 50%;\n",
              "    cursor: pointer;\n",
              "    display: none;\n",
              "    fill: var(--fill-color);\n",
              "    height: 32px;\n",
              "    padding: 0;\n",
              "    width: 32px;\n",
              "  }\n",
              "\n",
              "  .colab-df-quickchart:hover {\n",
              "    background-color: var(--hover-bg-color);\n",
              "    box-shadow: 0 1px 2px rgba(60, 64, 67, 0.3), 0 1px 3px 1px rgba(60, 64, 67, 0.15);\n",
              "    fill: var(--button-hover-fill-color);\n",
              "  }\n",
              "\n",
              "  .colab-df-quickchart-complete:disabled,\n",
              "  .colab-df-quickchart-complete:disabled:hover {\n",
              "    background-color: var(--disabled-bg-color);\n",
              "    fill: var(--disabled-fill-color);\n",
              "    box-shadow: none;\n",
              "  }\n",
              "\n",
              "  .colab-df-spinner {\n",
              "    border: 2px solid var(--fill-color);\n",
              "    border-color: transparent;\n",
              "    border-bottom-color: var(--fill-color);\n",
              "    animation:\n",
              "      spin 1s steps(1) infinite;\n",
              "  }\n",
              "\n",
              "  @keyframes spin {\n",
              "    0% {\n",
              "      border-color: transparent;\n",
              "      border-bottom-color: var(--fill-color);\n",
              "      border-left-color: var(--fill-color);\n",
              "    }\n",
              "    20% {\n",
              "      border-color: transparent;\n",
              "      border-left-color: var(--fill-color);\n",
              "      border-top-color: var(--fill-color);\n",
              "    }\n",
              "    30% {\n",
              "      border-color: transparent;\n",
              "      border-left-color: var(--fill-color);\n",
              "      border-top-color: var(--fill-color);\n",
              "      border-right-color: var(--fill-color);\n",
              "    }\n",
              "    40% {\n",
              "      border-color: transparent;\n",
              "      border-right-color: var(--fill-color);\n",
              "      border-top-color: var(--fill-color);\n",
              "    }\n",
              "    60% {\n",
              "      border-color: transparent;\n",
              "      border-right-color: var(--fill-color);\n",
              "    }\n",
              "    80% {\n",
              "      border-color: transparent;\n",
              "      border-right-color: var(--fill-color);\n",
              "      border-bottom-color: var(--fill-color);\n",
              "    }\n",
              "    90% {\n",
              "      border-color: transparent;\n",
              "      border-bottom-color: var(--fill-color);\n",
              "    }\n",
              "  }\n",
              "</style>\n",
              "\n",
              "  <script>\n",
              "    async function quickchart(key) {\n",
              "      const quickchartButtonEl =\n",
              "        document.querySelector('#' + key + ' button');\n",
              "      quickchartButtonEl.disabled = true;  // To prevent multiple clicks.\n",
              "      quickchartButtonEl.classList.add('colab-df-spinner');\n",
              "      try {\n",
              "        const charts = await google.colab.kernel.invokeFunction(\n",
              "            'suggestCharts', [key], {});\n",
              "      } catch (error) {\n",
              "        console.error('Error during call to suggestCharts:', error);\n",
              "      }\n",
              "      quickchartButtonEl.classList.remove('colab-df-spinner');\n",
              "      quickchartButtonEl.classList.add('colab-df-quickchart-complete');\n",
              "    }\n",
              "    (() => {\n",
              "      let quickchartButtonEl =\n",
              "        document.querySelector('#df-c459efe6-e820-4783-93c3-fb5458e379cf button');\n",
              "      quickchartButtonEl.style.display =\n",
              "        google.colab.kernel.accessAllowed ? 'block' : 'none';\n",
              "    })();\n",
              "  </script>\n",
              "</div>\n",
              "\n",
              "    </div>\n",
              "  </div>\n"
            ],
            "text/plain": [
              "     Unnamed: 0  UBE2Q2P2   HMGB1P1  RNU12-2P   SSX9P     EZHIP  EFCAB8  \\\n",
              "0  TCGA-3C-AAAU   12.9316   52.1503    0.0000  0.0000    1.7233  0.3447   \n",
              "1  TCGA-3C-AALI   17.3790   69.7553    1.0875  0.5438  144.1000  4.8940   \n",
              "2  TCGA-3C-AALJ    9.2294  154.2970    0.0000  0.0000    0.0000  2.7199   \n",
              "3  TCGA-3C-AALK   11.0799  143.8640    0.4137  0.0000    0.0000  2.0687   \n",
              "4  TCGA-4H-AAAK   14.4298   84.2128    0.4255  0.0000    0.4255  2.9787   \n",
              "\n",
              "   SRP14P1  TRIM75P  SPATA31B1P  ...     ZWINT      ZXDA      ZXDB      ZXDC  \\\n",
              "0   4.1359   0.6893         0.0  ...   931.957  129.5920  1007.780  1658.500   \n",
              "1   1.6313   0.5438         0.0  ...   965.198   59.8151   448.613  1343.120   \n",
              "2   2.7199   0.0000         0.0  ...  2531.280   35.3581   533.998   768.812   \n",
              "3   4.5511   0.0000         0.0  ...   668.597   55.0269   437.733   863.881   \n",
              "4   2.9787   0.0000         0.0  ...   674.468   48.9362   424.255  1049.790   \n",
              "\n",
              "     ZYG11A    ZYG11B      ZYX     ZZEF1      ZZZ3    Disease_Free_Status  \n",
              "0  258.4940  1208.370  3507.25  1894.930  1180.460  1:Recurred/Progressed  \n",
              "1  198.4770   603.589  5504.62  1318.650   406.743          0:DiseaseFree  \n",
              "2  331.8220   532.185  5458.75   942.883   509.519          0:DiseaseFree  \n",
              "3  175.4240   607.365  5691.35   781.134   700.869                    NaN  \n",
              "4   14.0426   775.745  4041.70   831.915   881.702          0:DiseaseFree  \n",
              "\n",
              "[5 rows x 20520 columns]"
            ]
          },
          "execution_count": 6,
          "metadata": {},
          "output_type": "execute_result"
        }
      ],
      "source": [
        "df.head()"
      ]
    },
    {
      "cell_type": "code",
      "execution_count": null,
      "metadata": {
        "colab": {
          "base_uri": "https://localhost:8080/"
        },
        "id": "slAb4TkmbUoP",
        "outputId": "1f04dc66-3582-4caf-ab63-157de8dfe0c6"
      },
      "outputs": [
        {
          "data": {
            "text/plain": [
              "(1082, 20520)"
            ]
          },
          "execution_count": 7,
          "metadata": {},
          "output_type": "execute_result"
        }
      ],
      "source": [
        "df.shape"
      ]
    },
    {
      "cell_type": "code",
      "execution_count": null,
      "metadata": {
        "id": "-CAnCOHmbiI8"
      },
      "outputs": [],
      "source": [
        "df_cleaned = df.dropna(subset=['Disease_Free_Status'])"
      ]
    },
    {
      "cell_type": "code",
      "execution_count": null,
      "metadata": {
        "colab": {
          "base_uri": "https://localhost:8080/"
        },
        "id": "Xx9mnhv4bvav",
        "outputId": "b744f520-5981-4f9e-a457-9f94a7b4a73d"
      },
      "outputs": [
        {
          "data": {
            "text/plain": [
              "array(['1:Recurred/Progressed', '0:DiseaseFree'], dtype=object)"
            ]
          },
          "execution_count": 11,
          "metadata": {},
          "output_type": "execute_result"
        }
      ],
      "source": [
        "df_cleaned['Disease_Free_Status'].unique()"
      ]
    },
    {
      "cell_type": "code",
      "execution_count": null,
      "metadata": {
        "id": "DDQcDAkIcI2P"
      },
      "outputs": [],
      "source": [
        "X = df_cleaned.drop(['Disease_Free_Status'], axis=1)\n",
        "y = df_cleaned['Disease_Free_Status']"
      ]
    },
    {
      "cell_type": "code",
      "execution_count": null,
      "metadata": {
        "id": "7M28JXuscI0G"
      },
      "outputs": [],
      "source": [
        "genes = []\n",
        "p_values = []"
      ]
    },
    {
      "cell_type": "code",
      "execution_count": null,
      "metadata": {
        "colab": {
          "background_save": true
        },
        "id": "ha_iMB7HcoKb"
      },
      "outputs": [],
      "source": [
        "for gene in X.columns:\n",
        "    # Assuming Disease_Free_Status is binary: '0:DiseaseFree' for non-diseased, '1:Recurred/Progressed' for diseased\n",
        "    group1 = X[y == '0:DiseaseFree'].copy()\n",
        "    group2 = X[y == '1:Recurred/Progressed'].copy()\n",
        "    # Convert to numeric, coercing errors to NaNs\n",
        "    g1 = pd.to_numeric(group1[gene], errors='coerce')\n",
        "    g2 = pd.to_numeric(group2[gene], errors='coerce')\n",
        "\n",
        "    # Perform t-test and ignore NaNs\n",
        "    t_stat, p_val = ttest_ind(g1, g2, nan_policy='omit')\n",
        "\n",
        "    # Store p-values and corresponding gene names\n",
        "    p_values.append(p_val)\n",
        "    genes.append(gene)"
      ]
    },
    {
      "cell_type": "code",
      "execution_count": null,
      "metadata": {
        "id": "kmPFlPvYcoHn"
      },
      "outputs": [],
      "source": [
        "corrected_p_values = multipletests(p_values, method='fdr_bh')[1]\n",
        "print (corrected_p_values)\n",
        "\n",
        "# Create a DataFrame with genes and their p-values\n",
        "results = pd.DataFrame({\n",
        "    'Gene': genes,\n",
        "    'p_value': corrected_p_values\n",
        "})"
      ]
    },
    {
      "cell_type": "code",
      "execution_count": null,
      "metadata": {
        "id": "HhDdzm8wcoFV"
      },
      "outputs": [],
      "source": []
    },
    {
      "cell_type": "code",
      "execution_count": null,
      "metadata": {
        "id": "SDIaz2GNcoDe"
      },
      "outputs": [],
      "source": []
    },
    {
      "cell_type": "code",
      "execution_count": null,
      "metadata": {
        "id": "6r7xrlJtcoBR"
      },
      "outputs": [],
      "source": []
    },
    {
      "cell_type": "code",
      "execution_count": null,
      "metadata": {
        "id": "0o3GZOejcn_F"
      },
      "outputs": [],
      "source": []
    },
    {
      "cell_type": "code",
      "execution_count": null,
      "metadata": {
        "id": "qGblCYF7cn8w"
      },
      "outputs": [],
      "source": []
    }
  ],
  "metadata": {
    "colab": {
      "provenance": [],
      "authorship_tag": "ABX9TyN3MoVAG20oXead1Y2hlujQ",
      "include_colab_link": true
    },
    "kernelspec": {
      "display_name": "Python 3",
      "name": "python3"
    },
    "language_info": {
      "name": "python"
    }
  },
  "nbformat": 4,
  "nbformat_minor": 0
}